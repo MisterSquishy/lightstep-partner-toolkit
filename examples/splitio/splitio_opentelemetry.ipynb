{
  "nbformat": 4,
  "nbformat_minor": 0,
  "metadata": {
    "colab": {
      "name": "Split.io OpenTelemetry.ipynb",
      "provenance": [],
      "collapsed_sections": [],
      "toc_visible": true
    },
    "kernelspec": {
      "name": "python3",
      "display_name": "Python 3"
    }
  },
  "cells": [
    {
      "cell_type": "markdown",
      "metadata": {
        "id": "1w4Ia5quKeBz"
      },
      "source": [
        "## Split.io + OpenTelemetry + Lightstep\n",
        "\n",
        "Feature flags, OpenTelemetry-style. Instruments Split.io Python SDK to connect feature flags to observability.\n",
        "\n",
        "This example is a Python notebook, click each code cell in order to run."
      ]
    },
    {
      "cell_type": "markdown",
      "metadata": {
        "id": "UosbiEk5C7AX"
      },
      "source": [
        "### Setup\n",
        "\n",
        "Install feature flags SDKs and OpenTelemetry dependencies. Set your API keys and tokens.\n",
        "\n"
      ]
    },
    {
      "cell_type": "markdown",
      "metadata": {
        "id": "Lmt4PmrnFywX"
      },
      "source": [
        "#### Install dependencies"
      ]
    },
    {
      "cell_type": "code",
      "metadata": {
        "id": "SWPYHH8hF1uv"
      },
      "source": [
        "\n",
        "! pip install -q opentelemetry-api==0.17b0\n",
        "! pip install -q opentelemetry-instrumentation==0.17b0\n",
        "! pip install -q wrapt==1.12.1\n",
        "\n",
        "! pip install -q splitio_client[cpphash]==8.4.0\n",
        "\n",
        "# For configuring application/service code for OpenTelemetry with Lightstep\n",
        "! pip uninstall -q -y protobuf\n",
        "! pip install -q protobuf>=3.13.0\n",
        "! pip install -q opentelemetry_launcher==0.17b0"
      ],
      "execution_count": null,
      "outputs": []
    },
    {
      "cell_type": "markdown",
      "metadata": {
        "id": "3MrWlJATF4RJ"
      },
      "source": [
        "#### Set Access Tokens"
      ]
    },
    {
      "cell_type": "code",
      "metadata": {
        "colab": {
          "base_uri": "https://localhost:8080/"
        },
        "id": "ON_W5JNx2nJR",
        "outputId": "159bc2e6-5f82-4c4d-b212-8fb78550ee2d"
      },
      "source": [
        "# Signup here to get an access token: https://app.lightstep.com/signup/developer\n",
        "# To find your token: https://docs.lightstep.com/docs/create-and-manage-access-tokens\n",
        "import getpass\n",
        "lightstep_access_token=getpass.getpass('Please paste your Lightstep access token: ')\n",
        "lightstep_project = input('Please paste your Lightstep project name: ')\n",
        "\n",
        "splitio_key = getpass.getpass('Please paste your Split.io access token: ')"
      ],
      "execution_count": null,
      "outputs": []
    },
    {
      "cell_type": "markdown",
      "metadata": {
        "id": "ZW0P3vF_KQc9"
      },
      "source": [
        "#### Instrument Split.io Python SDK\n",
        "\n",
        "*Use OpenTracing APIs to capture every call to `get_treatment` on the Split Python SDK -- no changes to the Split Python SDK are needed.*\n",
        "\n",
        "Traditionally, this library-specific instrumentation code is distributed as an open-source package as part of [OpenTelemetry's contrib collection](https://github.com/open-telemetry/opentelemetry-python-contrib)."
      ]
    },
    {
      "cell_type": "code",
      "metadata": {
        "id": "5e6931ry4RN5"
      },
      "source": [
        "import splitio\n",
        "\n",
        "from opentelemetry import trace\n",
        "from opentelemetry.instrumentation.instrumentor import BaseInstrumentor\n",
        "from wrapt import ObjectProxy, wrap_function_wrapper\n",
        "from pprint import pprint\n",
        "\n",
        "_DEFAULT_SERVICE = \"splitio\"\n",
        "version = \"0.0.1\"\n",
        "\n",
        "def _traced_get_treatment(func, instance, args, kwargs):\n",
        "  tracer = getattr(splitio, \"_opentelemetry_tracer\")\n",
        "  with tracer.start_as_current_span(\n",
        "        'get_treatment', kind=trace.SpanKind.CLIENT\n",
        "    ) as span:\n",
        "        return_val = func(*args, **kwargs)\n",
        "\n",
        "        if span.is_recording():\n",
        "            # Set attributes on a trace that describe the treatment\n",
        "            span.set_attribute(\"split.io.key\", args[0])\n",
        "            span.set_attribute(\"split.io.name\", args[1])\n",
        "            span.set_attribute(\"split.io.value\", return_val)\n",
        "        return return_val\n",
        "\n",
        "class SplitInstrumentor(BaseInstrumentor):\n",
        "    \"\"\"An instrumentor for Split.io\n",
        "    See `BaseInstrumentor`\n",
        "    \"\"\"\n",
        "\n",
        "    def _instrument(self, **kwargs):\n",
        "        tracer_provider = kwargs.get(\n",
        "            \"tracer_provider\", trace.get_tracer_provider()\n",
        "        )\n",
        "        setattr(\n",
        "            splitio,\n",
        "            \"_opentelemetry_tracer\",\n",
        "            tracer_provider.get_tracer(_DEFAULT_SERVICE, version),\n",
        "        )\n",
        "\n",
        "        if splitio.__version__ == '8.4.0':\n",
        "            wrap_function_wrapper(\n",
        "                \"splitio\", \"client.client.Client.get_treatment\", _traced_get_treatment\n",
        "            )\n",
        "\n",
        "\n",
        "    def _uninstrument(self, **kwargs):\n",
        "        if splitio.__version__ == '8.4.0':\n",
        "            unwrap(splitio.client, \"get_treatment\")"
      ],
      "execution_count": null,
      "outputs": []
    },
    {
      "cell_type": "markdown",
      "metadata": {
        "id": "JrRU9d3lLRvy"
      },
      "source": [
        "### Configure OpenTelemetry for Lightstep\n",
        "\n",
        "Use Lightstep's OpenTelemetry Python launcher to send traces to Lightstep."
      ]
    },
    {
      "cell_type": "code",
      "metadata": {
        "id": "H96qeRYk_OFk"
      },
      "source": [
        "from opentelemetry.launcher import configure_opentelemetry\n",
        "\n",
        "service_name = \"tutorial-featureflags\"\n",
        "\n",
        "# This automatically configures OpenTelemetry to send data to Lightstep.\n",
        "# Many other destinations are supported, see: https://pypi.org/search/?q=opentelemetry-exporter\n",
        "configure_opentelemetry(\n",
        "    service_name=service_name,\n",
        "    access_token=lightstep_access_token,\n",
        ")"
      ],
      "execution_count": null,
      "outputs": []
    },
    {
      "cell_type": "markdown",
      "metadata": {
        "id": "bWcux91gE_p0"
      },
      "source": [
        "### Run code with feature flags\n",
        "\n",
        "This generates some telemetry by calling `get_treatment`. This simulates a server-side python application using Split treatments."
      ]
    },
    {
      "cell_type": "code",
      "metadata": {
        "id": "ptC-zUJoF1_8"
      },
      "source": [
        "import sys\n",
        "import logging\n",
        "import time\n",
        "from random import randint, uniform\n",
        "\n",
        "from opentelemetry import trace\n",
        "tracer = trace.get_tracer('DonutsApp', '0.0.1')\n",
        "\n",
        "from splitio import get_factory\n",
        "from splitio.exceptions import TimeoutException\n",
        "\n",
        "logging.basicConfig(level=logging.DEBUG)\n",
        "\n",
        "config = {'ready' : 5000}\n",
        "\n",
        "try:\n",
        "  factory = get_factory(splitio_key, config=config)\n",
        "  split = factory.client()\n",
        "except TimeoutException:\n",
        "  # The SDK failed to initialize in a second. Abort!\n",
        "  sys.exit()\n",
        "\n",
        "# Instrument split.io -- this part is important to get telemetry!\n",
        "SplitInstrumentor().instrument()\n",
        "\n",
        "# Mock server-side handler with random latency\n",
        "# that responds to a customer-facing request\n",
        "# Typically, this would be a flask app, etc.\n",
        "def get_donuts_handler(customer_id):\n",
        "  with tracer.start_as_current_span(\"GET /donuts\"):\n",
        "    time.sleep(uniform(0.2, 0.4))\n",
        "    with tracer.start_as_current_span(\"get_donuts_handler\"):\n",
        "      # treatment is set to 50% on and 50% off\n",
        "      treatment = split.get_treatment(customer_id, 'TEST_SPLIT')\n",
        "      # fake database calls\n",
        "      with tracer.start_as_current_span(\"database call\"):\n",
        "        if treatment == 'on':\n",
        "          # slow\n",
        "          time.sleep(uniform(2.5, 3.2))\n",
        "        else:\n",
        "          # fast\n",
        "          time.sleep(uniform(0.5, 0.9))\n",
        "\n",
        "print(\"Generating some requests, this should take about 5 minutes...\")\n",
        "\n",
        "# Simulate 10 server-side requests from random customers\n",
        "for _ in range(100):\n",
        "  get_donuts_handler(randint(0, 1000))\n",
        "  "
      ],
      "execution_count": null,
      "outputs": []
    },
    {
      "cell_type": "markdown",
      "metadata": {
        "id": "kTKJlD7-Hjv9"
      },
      "source": [
        "### View data in Lightstep\n",
        "\n",
        "Connect feature flags to the latency and errors.\n",
        "\n",
        "![Split.io Flags in Lightstep](./screenshots/splitio_lightstep.png)"
      ]
    },
    {
      "cell_type": "code",
      "metadata": {
        "colab": {
          "base_uri": "https://localhost:8080/",
          "height": 58
        },
        "id": "b9fw7_6rIzCL",
        "outputId": "21029602-04cd-4523-8fe9-e393400b42aa"
      },
      "source": [
        "from IPython.core.display import display, HTML\n",
        "\n",
        "display(HTML(f'<h3><a target=\"_blank\" href=\"https://app.lightstep.com/{lightstep_project}/explorer?query=%22instrumentation.name%22%20IN%20%28%22splitio%22%29\">Explore traces for Split.io in Lightstep</a></h3>'))"
      ],
      "execution_count": null,
      "outputs": []
    }
  ]
}