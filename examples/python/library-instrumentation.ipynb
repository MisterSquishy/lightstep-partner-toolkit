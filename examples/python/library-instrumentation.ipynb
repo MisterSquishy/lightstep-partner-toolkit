{
  "nbformat": 4,
  "nbformat_minor": 0,
  "metadata": {
    "colab": {
      "name": "Python OpenTelemetry Example.ipynb",
      "provenance": [],
      "collapsed_sections": [],
      "toc_visible": true
    },
    "kernelspec": {
      "name": "python3",
      "display_name": "Python 3"
    }
  },
  "cells": [
    {
      "source": [
        "## Instrumenting Libraries with Python\n",
        "\n",
        "The OpenTelemetry API lets library authors instrument their code in a vendor-neutral way.\n",
        "\n",
        "If a developer uses their library and has OpenTelemetry configured, they'll get automatically receive telemetry provided by the library.\n",
        "\n",
        "This example uses the OpenTelemetry API to instrument a method that orders donuts, and uses Lightstep's OpenTelemetry launcher to send traces created using OpenTelemetry to Lightstep. Data can also be sent to Prometheus, Datadog, AWS X-Ray, Azure Monitor, New Relic, Google Cloud (and more) without any code changes needed."
      ],
      "cell_type": "markdown",
      "metadata": {
        "id": "TKVY1FbMHu-w"
      }
    },
    {
      "cell_type": "code",
      "metadata": {
        "colab": {
          "base_uri": "https://localhost:8080/"
        },
        "id": "5Ffba00eHkXo",
        "outputId": "928a7fad-91d7-44b2-a781-8824dab0b1e9"
      },
      "source": [
        "! pip install opentelemetry-api==0.17b0"
      ],
      "execution_count": null,
      "outputs": []
    },
    {
      "cell_type": "markdown",
      "metadata": {
        "id": "tkUtQFxJiG02"
      },
      "source": [
        "\n",
        "#### Creating a trace\n",
        "\n",
        "Here's an example of what a library author would use to either create traces or inspect traces. The only dependency should be the OpenTelemetry API module (not the SDK).\n",
        "\n",
        "A technical introduction to tracing that introduces many of these concepts—spans, attributes, and events—is [available on Lightstep.](https://opentelemetry.lightstep.com/)\n"
      ]
    },
    {
      "cell_type": "code",
      "metadata": {
        "id": "7uWyH6I3bX2G"
      },
      "source": [
        "from opentelemetry import trace\n",
        "import pprint\n",
        "\n",
        "pp = pprint.PrettyPrinter(indent=4)\n",
        "\n",
        "# API docs: https://opentelemetry-python.readthedocs.io/en/stable/api/api.html\n",
        "\n",
        "def get_donuts():\n",
        "  tracer = trace.get_tracer('DonutsLibrary', '0.0.1')\n",
        "  # Creates a new span called get_donuts\n",
        "  with tracer.start_as_current_span(\"get_donuts\"):\n",
        "    pp.pprint(trace.get_current_span())\n",
        "    trace.get_current_span().set_attribute('donut_type', 'sprinkes')\n",
        "    trace.get_current_span().add_event('donut_order')\n",
        "    # make an API call, do work\n",
        "    return \"Donuts ordered!\""
      ],
      "execution_count": null,
      "outputs": []
    },
    {
      "cell_type": "markdown",
      "metadata": {
        "id": "h83ynIimoids"
      },
      "source": [
        "####  Sending Telemetry to Lightstep (or anywhere else)\n",
        "\n",
        "There's a number of different options developers can use to recieve data from OpenTelemetry-instrumented libraries -- including just printing it to the console. \n",
        "\n",
        "Below, we use [Lightstep's OpenTelemetry launcher](https://github.com/lightstep/otel-launcher-python) to send data to Lightstep."
      ]
    },
    {
      "cell_type": "code",
      "metadata": {
        "colab": {
          "base_uri": "https://localhost:8080/"
        },
        "id": "9NzItXgmIYzw",
        "outputId": "fc76d952-36d9-454f-d0aa-025ee4870bf3"
      },
      "source": [
        "! pip install opentelemetry_launcher\n",
        "\n",
        "# Signup here to get an access token: https://app.lightstep.com/signup/developer\n",
        "# To find your token: https://docs.lightstep.com/docs/create-and-manage-access-tokens\n",
        "import getpass\n",
        "lightstep_access_token=getpass.getpass('Please paste your Lightstep access token: ')\n",
        "lightstep_project = input('Please paste your Lightstep project name: ')"
      ],
      "execution_count": null,
      "outputs": []
    },
    {
      "cell_type": "code",
      "metadata": {
        "colab": {
          "base_uri": "https://localhost:8080/"
        },
        "id": "dOWmjUckfy3C",
        "outputId": "01a52e44-7ce3-46f7-dd37-5925f7cf2368"
      },
      "source": [
        "from opentelemetry.launcher import configure_opentelemetry\n",
        "\n",
        "service_name = \"tutorial-pyton\"\n",
        "\n",
        "# This automatically configures OpenTelemetry to send data to Lightstep.\n",
        "# Many other destinations are supported, see: https://pypi.org/search/?q=opentelemetry-exporter\n",
        "configure_opentelemetry(\n",
        "    service_name=service_name,\n",
        "    access_token=lightstep_access_token,\n",
        ")\n",
        "\n",
        "print(get_donuts())\n",
        "\n",
        "print(f'View traces in Lightstep:\\nhttps://app.lightstep.com/{lightstep_project}/explorer?filter[0][type]=built-in&filter[0][key]=component&filter[0][value]={service_name}')"
      ],
      "execution_count": null,
      "outputs": []
    }
  ]
}